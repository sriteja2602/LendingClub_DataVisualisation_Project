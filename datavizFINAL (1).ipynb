{
  "nbformat": 4,
  "nbformat_minor": 0,
  "metadata": {
    "kernelspec": {
      "display_name": "Python 3",
      "language": "python",
      "name": "python3"
    },
    "language_info": {
      "codemirror_mode": {
        "name": "ipython",
        "version": 3
      },
      "file_extension": ".py",
      "mimetype": "text/x-python",
      "name": "python",
      "nbconvert_exporter": "python",
      "pygments_lexer": "ipython3",
      "version": "3.7.6"
    },
    "colab": {
      "name": "datavizFINAL.ipynb",
      "provenance": []
    }
  },
  "cells": [
    {
      "cell_type": "code",
      "metadata": {
        "id": "9FnLdo8WMStV"
      },
      "source": [
        "import warnings\n",
        "warnings.simplefilter('ignore')\n",
        "import numpy as np\n",
        "import pandas as pd\n",
        "import matplotlib.pyplot as plt\n",
        "%matplotlib inline"
      ],
      "execution_count": null,
      "outputs": []
    },
    {
      "cell_type": "code",
      "metadata": {
        "colab": {
          "base_uri": "https://localhost:8080/",
          "height": 622
        },
        "id": "fEUUSVDVMStY",
        "outputId": "e73dab7d-1849-44ce-dd6d-106bff7b383d"
      },
      "source": [
        "from google.colab import drive\n",
        "drive.mount('/content/gdrive')\n",
        "data= pd.read_csv('/content/gdrive/My Drive/lending_club_loans.csv')\n",
        "data.head()"
      ],
      "execution_count": null,
      "outputs": [
        {
          "output_type": "stream",
          "text": [
            "Mounted at /content/gdrive\n"
          ],
          "name": "stdout"
        },
        {
          "output_type": "execute_result",
          "data": {
            "text/html": [
              "<div>\n",
              "<style scoped>\n",
              "    .dataframe tbody tr th:only-of-type {\n",
              "        vertical-align: middle;\n",
              "    }\n",
              "\n",
              "    .dataframe tbody tr th {\n",
              "        vertical-align: top;\n",
              "    }\n",
              "\n",
              "    .dataframe thead th {\n",
              "        text-align: right;\n",
              "    }\n",
              "</style>\n",
              "<table border=\"1\" class=\"dataframe\">\n",
              "  <thead>\n",
              "    <tr style=\"text-align: right;\">\n",
              "      <th></th>\n",
              "      <th>id</th>\n",
              "      <th>member_id</th>\n",
              "      <th>loan_amnt</th>\n",
              "      <th>funded_amnt</th>\n",
              "      <th>funded_amnt_inv</th>\n",
              "      <th>term</th>\n",
              "      <th>int_rate</th>\n",
              "      <th>installment</th>\n",
              "      <th>grade</th>\n",
              "      <th>sub_grade</th>\n",
              "      <th>emp_title</th>\n",
              "      <th>emp_length</th>\n",
              "      <th>home_ownership</th>\n",
              "      <th>annual_inc</th>\n",
              "      <th>verification_status</th>\n",
              "      <th>issue_d</th>\n",
              "      <th>loan_status</th>\n",
              "      <th>pymnt_plan</th>\n",
              "      <th>url</th>\n",
              "      <th>desc</th>\n",
              "      <th>purpose</th>\n",
              "      <th>title</th>\n",
              "      <th>zip_code</th>\n",
              "      <th>addr_state</th>\n",
              "      <th>dti</th>\n",
              "      <th>delinq_2yrs</th>\n",
              "      <th>earliest_cr_line</th>\n",
              "      <th>fico_range_low</th>\n",
              "      <th>fico_range_high</th>\n",
              "      <th>inq_last_6mths</th>\n",
              "      <th>mths_since_last_delinq</th>\n",
              "      <th>mths_since_last_record</th>\n",
              "      <th>open_acc</th>\n",
              "      <th>pub_rec</th>\n",
              "      <th>revol_bal</th>\n",
              "      <th>revol_util</th>\n",
              "      <th>total_acc</th>\n",
              "      <th>initial_list_status</th>\n",
              "      <th>out_prncp</th>\n",
              "      <th>out_prncp_inv</th>\n",
              "      <th>...</th>\n",
              "      <th>inq_fi</th>\n",
              "      <th>total_cu_tl</th>\n",
              "      <th>inq_last_12m</th>\n",
              "      <th>acc_open_past_24mths</th>\n",
              "      <th>avg_cur_bal</th>\n",
              "      <th>bc_open_to_buy</th>\n",
              "      <th>bc_util</th>\n",
              "      <th>chargeoff_within_12_mths</th>\n",
              "      <th>delinq_amnt</th>\n",
              "      <th>mo_sin_old_il_acct</th>\n",
              "      <th>mo_sin_old_rev_tl_op</th>\n",
              "      <th>mo_sin_rcnt_rev_tl_op</th>\n",
              "      <th>mo_sin_rcnt_tl</th>\n",
              "      <th>mort_acc</th>\n",
              "      <th>mths_since_recent_bc</th>\n",
              "      <th>mths_since_recent_bc_dlq</th>\n",
              "      <th>mths_since_recent_inq</th>\n",
              "      <th>mths_since_recent_revol_delinq</th>\n",
              "      <th>num_accts_ever_120_pd</th>\n",
              "      <th>num_actv_bc_tl</th>\n",
              "      <th>num_actv_rev_tl</th>\n",
              "      <th>num_bc_sats</th>\n",
              "      <th>num_bc_tl</th>\n",
              "      <th>num_il_tl</th>\n",
              "      <th>num_op_rev_tl</th>\n",
              "      <th>num_rev_accts</th>\n",
              "      <th>num_rev_tl_bal_gt_0</th>\n",
              "      <th>num_sats</th>\n",
              "      <th>num_tl_120dpd_2m</th>\n",
              "      <th>num_tl_30dpd</th>\n",
              "      <th>num_tl_90g_dpd_24m</th>\n",
              "      <th>num_tl_op_past_12m</th>\n",
              "      <th>pct_tl_nvr_dlq</th>\n",
              "      <th>percent_bc_gt_75</th>\n",
              "      <th>pub_rec_bankruptcies</th>\n",
              "      <th>tax_liens</th>\n",
              "      <th>tot_hi_cred_lim</th>\n",
              "      <th>total_bal_ex_mort</th>\n",
              "      <th>total_bc_limit</th>\n",
              "      <th>total_il_high_credit_limit</th>\n",
              "    </tr>\n",
              "  </thead>\n",
              "  <tbody>\n",
              "    <tr>\n",
              "      <th>0</th>\n",
              "      <td>1077501</td>\n",
              "      <td>1296599.0</td>\n",
              "      <td>5000.0</td>\n",
              "      <td>5000.0</td>\n",
              "      <td>4975.0</td>\n",
              "      <td>36 months</td>\n",
              "      <td>10.65%</td>\n",
              "      <td>162.87</td>\n",
              "      <td>B</td>\n",
              "      <td>B2</td>\n",
              "      <td>NaN</td>\n",
              "      <td>10+ years</td>\n",
              "      <td>RENT</td>\n",
              "      <td>24000.0</td>\n",
              "      <td>Verified</td>\n",
              "      <td>Dec-2011</td>\n",
              "      <td>Fully Paid</td>\n",
              "      <td>n</td>\n",
              "      <td>https://lendingclub.com/browse/loanDetail.acti...</td>\n",
              "      <td>Borrower added on 12/22/11 &gt; I need to upgrade...</td>\n",
              "      <td>credit_card</td>\n",
              "      <td>Computer</td>\n",
              "      <td>860xx</td>\n",
              "      <td>AZ</td>\n",
              "      <td>27.65</td>\n",
              "      <td>0.0</td>\n",
              "      <td>Jan-1985</td>\n",
              "      <td>735.0</td>\n",
              "      <td>739.0</td>\n",
              "      <td>1.0</td>\n",
              "      <td>NaN</td>\n",
              "      <td>NaN</td>\n",
              "      <td>3.0</td>\n",
              "      <td>0.0</td>\n",
              "      <td>13648.0</td>\n",
              "      <td>83.7%</td>\n",
              "      <td>9.0</td>\n",
              "      <td>f</td>\n",
              "      <td>0.00</td>\n",
              "      <td>0.00</td>\n",
              "      <td>...</td>\n",
              "      <td>NaN</td>\n",
              "      <td>NaN</td>\n",
              "      <td>NaN</td>\n",
              "      <td>NaN</td>\n",
              "      <td>NaN</td>\n",
              "      <td>NaN</td>\n",
              "      <td>NaN</td>\n",
              "      <td>0.0</td>\n",
              "      <td>0.0</td>\n",
              "      <td>NaN</td>\n",
              "      <td>NaN</td>\n",
              "      <td>NaN</td>\n",
              "      <td>NaN</td>\n",
              "      <td>NaN</td>\n",
              "      <td>NaN</td>\n",
              "      <td>NaN</td>\n",
              "      <td>NaN</td>\n",
              "      <td>NaN</td>\n",
              "      <td>NaN</td>\n",
              "      <td>NaN</td>\n",
              "      <td>NaN</td>\n",
              "      <td>NaN</td>\n",
              "      <td>NaN</td>\n",
              "      <td>NaN</td>\n",
              "      <td>NaN</td>\n",
              "      <td>NaN</td>\n",
              "      <td>NaN</td>\n",
              "      <td>NaN</td>\n",
              "      <td>NaN</td>\n",
              "      <td>NaN</td>\n",
              "      <td>NaN</td>\n",
              "      <td>NaN</td>\n",
              "      <td>NaN</td>\n",
              "      <td>NaN</td>\n",
              "      <td>0.0</td>\n",
              "      <td>0.0</td>\n",
              "      <td>NaN</td>\n",
              "      <td>NaN</td>\n",
              "      <td>NaN</td>\n",
              "      <td>NaN</td>\n",
              "    </tr>\n",
              "    <tr>\n",
              "      <th>1</th>\n",
              "      <td>1077430</td>\n",
              "      <td>1314167.0</td>\n",
              "      <td>2500.0</td>\n",
              "      <td>2500.0</td>\n",
              "      <td>2500.0</td>\n",
              "      <td>60 months</td>\n",
              "      <td>15.27%</td>\n",
              "      <td>59.83</td>\n",
              "      <td>C</td>\n",
              "      <td>C4</td>\n",
              "      <td>Ryder</td>\n",
              "      <td>&lt; 1 year</td>\n",
              "      <td>RENT</td>\n",
              "      <td>30000.0</td>\n",
              "      <td>Source Verified</td>\n",
              "      <td>Dec-2011</td>\n",
              "      <td>Charged Off</td>\n",
              "      <td>n</td>\n",
              "      <td>https://lendingclub.com/browse/loanDetail.acti...</td>\n",
              "      <td>Borrower added on 12/22/11 &gt; I plan to use thi...</td>\n",
              "      <td>car</td>\n",
              "      <td>bike</td>\n",
              "      <td>309xx</td>\n",
              "      <td>GA</td>\n",
              "      <td>1.00</td>\n",
              "      <td>0.0</td>\n",
              "      <td>Apr-1999</td>\n",
              "      <td>740.0</td>\n",
              "      <td>744.0</td>\n",
              "      <td>5.0</td>\n",
              "      <td>NaN</td>\n",
              "      <td>NaN</td>\n",
              "      <td>3.0</td>\n",
              "      <td>0.0</td>\n",
              "      <td>1687.0</td>\n",
              "      <td>9.4%</td>\n",
              "      <td>4.0</td>\n",
              "      <td>f</td>\n",
              "      <td>0.00</td>\n",
              "      <td>0.00</td>\n",
              "      <td>...</td>\n",
              "      <td>NaN</td>\n",
              "      <td>NaN</td>\n",
              "      <td>NaN</td>\n",
              "      <td>NaN</td>\n",
              "      <td>NaN</td>\n",
              "      <td>NaN</td>\n",
              "      <td>NaN</td>\n",
              "      <td>0.0</td>\n",
              "      <td>0.0</td>\n",
              "      <td>NaN</td>\n",
              "      <td>NaN</td>\n",
              "      <td>NaN</td>\n",
              "      <td>NaN</td>\n",
              "      <td>NaN</td>\n",
              "      <td>NaN</td>\n",
              "      <td>NaN</td>\n",
              "      <td>NaN</td>\n",
              "      <td>NaN</td>\n",
              "      <td>NaN</td>\n",
              "      <td>NaN</td>\n",
              "      <td>NaN</td>\n",
              "      <td>NaN</td>\n",
              "      <td>NaN</td>\n",
              "      <td>NaN</td>\n",
              "      <td>NaN</td>\n",
              "      <td>NaN</td>\n",
              "      <td>NaN</td>\n",
              "      <td>NaN</td>\n",
              "      <td>NaN</td>\n",
              "      <td>NaN</td>\n",
              "      <td>NaN</td>\n",
              "      <td>NaN</td>\n",
              "      <td>NaN</td>\n",
              "      <td>NaN</td>\n",
              "      <td>0.0</td>\n",
              "      <td>0.0</td>\n",
              "      <td>NaN</td>\n",
              "      <td>NaN</td>\n",
              "      <td>NaN</td>\n",
              "      <td>NaN</td>\n",
              "    </tr>\n",
              "    <tr>\n",
              "      <th>2</th>\n",
              "      <td>1077175</td>\n",
              "      <td>1313524.0</td>\n",
              "      <td>2400.0</td>\n",
              "      <td>2400.0</td>\n",
              "      <td>2400.0</td>\n",
              "      <td>36 months</td>\n",
              "      <td>15.96%</td>\n",
              "      <td>84.33</td>\n",
              "      <td>C</td>\n",
              "      <td>C5</td>\n",
              "      <td>NaN</td>\n",
              "      <td>10+ years</td>\n",
              "      <td>RENT</td>\n",
              "      <td>12252.0</td>\n",
              "      <td>Not Verified</td>\n",
              "      <td>Dec-2011</td>\n",
              "      <td>Fully Paid</td>\n",
              "      <td>n</td>\n",
              "      <td>https://lendingclub.com/browse/loanDetail.acti...</td>\n",
              "      <td>NaN</td>\n",
              "      <td>small_business</td>\n",
              "      <td>real estate business</td>\n",
              "      <td>606xx</td>\n",
              "      <td>IL</td>\n",
              "      <td>8.72</td>\n",
              "      <td>0.0</td>\n",
              "      <td>Nov-2001</td>\n",
              "      <td>735.0</td>\n",
              "      <td>739.0</td>\n",
              "      <td>2.0</td>\n",
              "      <td>NaN</td>\n",
              "      <td>NaN</td>\n",
              "      <td>2.0</td>\n",
              "      <td>0.0</td>\n",
              "      <td>2956.0</td>\n",
              "      <td>98.5%</td>\n",
              "      <td>10.0</td>\n",
              "      <td>f</td>\n",
              "      <td>0.00</td>\n",
              "      <td>0.00</td>\n",
              "      <td>...</td>\n",
              "      <td>NaN</td>\n",
              "      <td>NaN</td>\n",
              "      <td>NaN</td>\n",
              "      <td>NaN</td>\n",
              "      <td>NaN</td>\n",
              "      <td>NaN</td>\n",
              "      <td>NaN</td>\n",
              "      <td>0.0</td>\n",
              "      <td>0.0</td>\n",
              "      <td>NaN</td>\n",
              "      <td>NaN</td>\n",
              "      <td>NaN</td>\n",
              "      <td>NaN</td>\n",
              "      <td>NaN</td>\n",
              "      <td>NaN</td>\n",
              "      <td>NaN</td>\n",
              "      <td>NaN</td>\n",
              "      <td>NaN</td>\n",
              "      <td>NaN</td>\n",
              "      <td>NaN</td>\n",
              "      <td>NaN</td>\n",
              "      <td>NaN</td>\n",
              "      <td>NaN</td>\n",
              "      <td>NaN</td>\n",
              "      <td>NaN</td>\n",
              "      <td>NaN</td>\n",
              "      <td>NaN</td>\n",
              "      <td>NaN</td>\n",
              "      <td>NaN</td>\n",
              "      <td>NaN</td>\n",
              "      <td>NaN</td>\n",
              "      <td>NaN</td>\n",
              "      <td>NaN</td>\n",
              "      <td>NaN</td>\n",
              "      <td>0.0</td>\n",
              "      <td>0.0</td>\n",
              "      <td>NaN</td>\n",
              "      <td>NaN</td>\n",
              "      <td>NaN</td>\n",
              "      <td>NaN</td>\n",
              "    </tr>\n",
              "    <tr>\n",
              "      <th>3</th>\n",
              "      <td>1076863</td>\n",
              "      <td>1277178.0</td>\n",
              "      <td>10000.0</td>\n",
              "      <td>10000.0</td>\n",
              "      <td>10000.0</td>\n",
              "      <td>36 months</td>\n",
              "      <td>13.49%</td>\n",
              "      <td>339.31</td>\n",
              "      <td>C</td>\n",
              "      <td>C1</td>\n",
              "      <td>AIR RESOURCES BOARD</td>\n",
              "      <td>10+ years</td>\n",
              "      <td>RENT</td>\n",
              "      <td>49200.0</td>\n",
              "      <td>Source Verified</td>\n",
              "      <td>Dec-2011</td>\n",
              "      <td>Fully Paid</td>\n",
              "      <td>n</td>\n",
              "      <td>https://lendingclub.com/browse/loanDetail.acti...</td>\n",
              "      <td>Borrower added on 12/21/11 &gt; to pay for proper...</td>\n",
              "      <td>other</td>\n",
              "      <td>personel</td>\n",
              "      <td>917xx</td>\n",
              "      <td>CA</td>\n",
              "      <td>20.00</td>\n",
              "      <td>0.0</td>\n",
              "      <td>Feb-1996</td>\n",
              "      <td>690.0</td>\n",
              "      <td>694.0</td>\n",
              "      <td>1.0</td>\n",
              "      <td>35.0</td>\n",
              "      <td>NaN</td>\n",
              "      <td>10.0</td>\n",
              "      <td>0.0</td>\n",
              "      <td>5598.0</td>\n",
              "      <td>21%</td>\n",
              "      <td>37.0</td>\n",
              "      <td>f</td>\n",
              "      <td>0.00</td>\n",
              "      <td>0.00</td>\n",
              "      <td>...</td>\n",
              "      <td>NaN</td>\n",
              "      <td>NaN</td>\n",
              "      <td>NaN</td>\n",
              "      <td>NaN</td>\n",
              "      <td>NaN</td>\n",
              "      <td>NaN</td>\n",
              "      <td>NaN</td>\n",
              "      <td>0.0</td>\n",
              "      <td>0.0</td>\n",
              "      <td>NaN</td>\n",
              "      <td>NaN</td>\n",
              "      <td>NaN</td>\n",
              "      <td>NaN</td>\n",
              "      <td>NaN</td>\n",
              "      <td>NaN</td>\n",
              "      <td>NaN</td>\n",
              "      <td>NaN</td>\n",
              "      <td>NaN</td>\n",
              "      <td>NaN</td>\n",
              "      <td>NaN</td>\n",
              "      <td>NaN</td>\n",
              "      <td>NaN</td>\n",
              "      <td>NaN</td>\n",
              "      <td>NaN</td>\n",
              "      <td>NaN</td>\n",
              "      <td>NaN</td>\n",
              "      <td>NaN</td>\n",
              "      <td>NaN</td>\n",
              "      <td>NaN</td>\n",
              "      <td>NaN</td>\n",
              "      <td>NaN</td>\n",
              "      <td>NaN</td>\n",
              "      <td>NaN</td>\n",
              "      <td>NaN</td>\n",
              "      <td>0.0</td>\n",
              "      <td>0.0</td>\n",
              "      <td>NaN</td>\n",
              "      <td>NaN</td>\n",
              "      <td>NaN</td>\n",
              "      <td>NaN</td>\n",
              "    </tr>\n",
              "    <tr>\n",
              "      <th>4</th>\n",
              "      <td>1075358</td>\n",
              "      <td>1311748.0</td>\n",
              "      <td>3000.0</td>\n",
              "      <td>3000.0</td>\n",
              "      <td>3000.0</td>\n",
              "      <td>60 months</td>\n",
              "      <td>12.69%</td>\n",
              "      <td>67.79</td>\n",
              "      <td>B</td>\n",
              "      <td>B5</td>\n",
              "      <td>University Medical Group</td>\n",
              "      <td>1 year</td>\n",
              "      <td>RENT</td>\n",
              "      <td>80000.0</td>\n",
              "      <td>Source Verified</td>\n",
              "      <td>Dec-2011</td>\n",
              "      <td>Current</td>\n",
              "      <td>n</td>\n",
              "      <td>https://lendingclub.com/browse/loanDetail.acti...</td>\n",
              "      <td>Borrower added on 12/21/11 &gt; I plan on combini...</td>\n",
              "      <td>other</td>\n",
              "      <td>Personal</td>\n",
              "      <td>972xx</td>\n",
              "      <td>OR</td>\n",
              "      <td>17.94</td>\n",
              "      <td>0.0</td>\n",
              "      <td>Jan-1996</td>\n",
              "      <td>695.0</td>\n",
              "      <td>699.0</td>\n",
              "      <td>0.0</td>\n",
              "      <td>38.0</td>\n",
              "      <td>NaN</td>\n",
              "      <td>15.0</td>\n",
              "      <td>0.0</td>\n",
              "      <td>27783.0</td>\n",
              "      <td>53.9%</td>\n",
              "      <td>38.0</td>\n",
              "      <td>f</td>\n",
              "      <td>270.78</td>\n",
              "      <td>270.78</td>\n",
              "      <td>...</td>\n",
              "      <td>NaN</td>\n",
              "      <td>NaN</td>\n",
              "      <td>NaN</td>\n",
              "      <td>NaN</td>\n",
              "      <td>NaN</td>\n",
              "      <td>NaN</td>\n",
              "      <td>NaN</td>\n",
              "      <td>0.0</td>\n",
              "      <td>0.0</td>\n",
              "      <td>NaN</td>\n",
              "      <td>NaN</td>\n",
              "      <td>NaN</td>\n",
              "      <td>NaN</td>\n",
              "      <td>NaN</td>\n",
              "      <td>NaN</td>\n",
              "      <td>NaN</td>\n",
              "      <td>NaN</td>\n",
              "      <td>NaN</td>\n",
              "      <td>NaN</td>\n",
              "      <td>NaN</td>\n",
              "      <td>NaN</td>\n",
              "      <td>NaN</td>\n",
              "      <td>NaN</td>\n",
              "      <td>NaN</td>\n",
              "      <td>NaN</td>\n",
              "      <td>NaN</td>\n",
              "      <td>NaN</td>\n",
              "      <td>NaN</td>\n",
              "      <td>NaN</td>\n",
              "      <td>NaN</td>\n",
              "      <td>NaN</td>\n",
              "      <td>NaN</td>\n",
              "      <td>NaN</td>\n",
              "      <td>NaN</td>\n",
              "      <td>0.0</td>\n",
              "      <td>0.0</td>\n",
              "      <td>NaN</td>\n",
              "      <td>NaN</td>\n",
              "      <td>NaN</td>\n",
              "      <td>NaN</td>\n",
              "    </tr>\n",
              "  </tbody>\n",
              "</table>\n",
              "<p>5 rows × 115 columns</p>\n",
              "</div>"
            ],
            "text/plain": [
              "        id  member_id  ...  total_bc_limit  total_il_high_credit_limit\n",
              "0  1077501  1296599.0  ...             NaN                         NaN\n",
              "1  1077430  1314167.0  ...             NaN                         NaN\n",
              "2  1077175  1313524.0  ...             NaN                         NaN\n",
              "3  1076863  1277178.0  ...             NaN                         NaN\n",
              "4  1075358  1311748.0  ...             NaN                         NaN\n",
              "\n",
              "[5 rows x 115 columns]"
            ]
          },
          "metadata": {
            "tags": []
          },
          "execution_count": 2
        }
      ]
    },
    {
      "cell_type": "code",
      "metadata": {
        "colab": {
          "base_uri": "https://localhost:8080/"
        },
        "id": "76Vg7xaXMStZ",
        "outputId": "e108c495-3667-4262-f721-59aab56a7a40"
      },
      "source": [
        "pd.options.display.max_rows=150\n",
        "missing=data.isnull().sum()\n",
        "missing_ratio=missing/len(data)\n",
        "missing_ratio=missing_ratio.reset_index()\n",
        "missing_ratio=missing_ratio.rename(columns={'index':'feature',0:'missing ratio'})\n",
        "missing_ratio=missing_ratio.sort_values(by='missing ratio',ascending=False)\n",
        "missing_ratio[missing_ratio['missing ratio']>=0.2]['feature']"
      ],
      "execution_count": null,
      "outputs": [
        {
          "output_type": "execute_result",
          "data": {
            "text/plain": [
              "57                   annual_inc_joint\n",
              "86              mo_sin_rcnt_rev_tl_op\n",
              "84                 mo_sin_old_il_acct\n",
              "81                            bc_util\n",
              "80                     bc_open_to_buy\n",
              "79                        avg_cur_bal\n",
              "78               acc_open_past_24mths\n",
              "77                       inq_last_12m\n",
              "76                        total_cu_tl\n",
              "75                             inq_fi\n",
              "74                   total_rev_hi_lim\n",
              "73                           all_util\n",
              "72                         max_bal_bc\n",
              "71                        open_rv_24m\n",
              "70                        open_rv_12m\n",
              "69                            il_util\n",
              "68                       total_bal_il\n",
              "67                 mths_since_rcnt_il\n",
              "66                        open_il_24m\n",
              "65                        open_il_12m\n",
              "64                         open_il_6m\n",
              "63                        open_acc_6m\n",
              "62                        tot_cur_bal\n",
              "61                       tot_coll_amt\n",
              "59          verification_status_joint\n",
              "85               mo_sin_old_rev_tl_op\n",
              "87                     mo_sin_rcnt_tl\n",
              "54        mths_since_last_major_derog\n",
              "88                           mort_acc\n",
              "113                    total_bc_limit\n",
              "112                 total_bal_ex_mort\n",
              "111                   tot_hi_cred_lim\n",
              "108                  percent_bc_gt_75\n",
              "107                    pct_tl_nvr_dlq\n",
              "106                num_tl_op_past_12m\n",
              "105                num_tl_90g_dpd_24m\n",
              "104                      num_tl_30dpd\n",
              "103                  num_tl_120dpd_2m\n",
              "102                          num_sats\n",
              "101               num_rev_tl_bal_gt_0\n",
              "100                     num_rev_accts\n",
              "99                      num_op_rev_tl\n",
              "98                          num_il_tl\n",
              "97                          num_bc_tl\n",
              "96                        num_bc_sats\n",
              "95                    num_actv_rev_tl\n",
              "94                     num_actv_bc_tl\n",
              "93              num_accts_ever_120_pd\n",
              "92     mths_since_recent_revol_delinq\n",
              "91              mths_since_recent_inq\n",
              "90           mths_since_recent_bc_dlq\n",
              "89               mths_since_recent_bc\n",
              "58                          dti_joint\n",
              "114        total_il_high_credit_limit\n",
              "49                       next_pymnt_d\n",
              "31             mths_since_last_record\n",
              "30             mths_since_last_delinq\n",
              "19                               desc\n",
              "Name: feature, dtype: object"
            ]
          },
          "metadata": {
            "tags": []
          },
          "execution_count": 3
        }
      ]
    },
    {
      "cell_type": "code",
      "metadata": {
        "id": "Am4aM504MSta"
      },
      "source": [
        "columns=['annual_inc_joint','mo_sin_rcnt_rev_tl_op','inq_fi','total_cu_tl','mo_sin_old_il_acct','bc_util','bc_open_to_buy','avg_cur_bal','acc_open_past_24mths','inq_last_12m','total_rev_hi_lim','all_util','max_bal_bc','open_rv_24m','open_rv_12m','il_util','total_bal_il','mths_since_rcnt_il','open_il_24m','open_il_12m','open_il_6m','open_acc_6m','tot_cur_bal','tot_coll_amt','verification_status_joint','mo_sin_old_rev_tl_op','mo_sin_rcnt_tl','mths_since_last_major_derog','mort_acc','total_bc_limit','total_bal_ex_mort','tot_hi_cred_lim','percent_bc_gt_75','pct_tl_nvr_dlq','num_tl_op_past_12m','num_tl_90g_dpd_24m','num_tl_30dpd','num_tl_120dpd_2m','num_sats','num_rev_tl_bal_gt_0','num_rev_accts','num_op_rev_tl','num_il_tl','num_bc_tl','num_bc_sats','num_actv_rev_tl','num_actv_bc_tl','num_accts_ever_120_pd','mths_since_recent_revol_delinq','mths_since_recent_inq','mths_since_recent_bc_dlq','mths_since_recent_bc','dti_joint','total_il_high_credit_limit','next_pymnt_d','mths_since_last_record','mths_since_last_delinq','desc']"
      ],
      "execution_count": null,
      "outputs": []
    },
    {
      "cell_type": "code",
      "metadata": {
        "colab": {
          "base_uri": "https://localhost:8080/",
          "height": 358
        },
        "id": "qmaM8ivYMSta",
        "outputId": "c20809a2-a717-481d-fbd9-1b34f43ec082"
      },
      "source": [
        "data=data.drop(labels=columns,axis=1)\n",
        "data.head(5)"
      ],
      "execution_count": null,
      "outputs": [
        {
          "output_type": "execute_result",
          "data": {
            "text/html": [
              "<div>\n",
              "<style scoped>\n",
              "    .dataframe tbody tr th:only-of-type {\n",
              "        vertical-align: middle;\n",
              "    }\n",
              "\n",
              "    .dataframe tbody tr th {\n",
              "        vertical-align: top;\n",
              "    }\n",
              "\n",
              "    .dataframe thead th {\n",
              "        text-align: right;\n",
              "    }\n",
              "</style>\n",
              "<table border=\"1\" class=\"dataframe\">\n",
              "  <thead>\n",
              "    <tr style=\"text-align: right;\">\n",
              "      <th></th>\n",
              "      <th>id</th>\n",
              "      <th>member_id</th>\n",
              "      <th>loan_amnt</th>\n",
              "      <th>funded_amnt</th>\n",
              "      <th>funded_amnt_inv</th>\n",
              "      <th>term</th>\n",
              "      <th>int_rate</th>\n",
              "      <th>installment</th>\n",
              "      <th>grade</th>\n",
              "      <th>sub_grade</th>\n",
              "      <th>emp_title</th>\n",
              "      <th>emp_length</th>\n",
              "      <th>home_ownership</th>\n",
              "      <th>annual_inc</th>\n",
              "      <th>verification_status</th>\n",
              "      <th>issue_d</th>\n",
              "      <th>loan_status</th>\n",
              "      <th>pymnt_plan</th>\n",
              "      <th>url</th>\n",
              "      <th>purpose</th>\n",
              "      <th>title</th>\n",
              "      <th>zip_code</th>\n",
              "      <th>addr_state</th>\n",
              "      <th>dti</th>\n",
              "      <th>delinq_2yrs</th>\n",
              "      <th>earliest_cr_line</th>\n",
              "      <th>fico_range_low</th>\n",
              "      <th>fico_range_high</th>\n",
              "      <th>inq_last_6mths</th>\n",
              "      <th>open_acc</th>\n",
              "      <th>pub_rec</th>\n",
              "      <th>revol_bal</th>\n",
              "      <th>revol_util</th>\n",
              "      <th>total_acc</th>\n",
              "      <th>initial_list_status</th>\n",
              "      <th>out_prncp</th>\n",
              "      <th>out_prncp_inv</th>\n",
              "      <th>total_pymnt</th>\n",
              "      <th>total_pymnt_inv</th>\n",
              "      <th>total_rec_prncp</th>\n",
              "      <th>total_rec_int</th>\n",
              "      <th>total_rec_late_fee</th>\n",
              "      <th>recoveries</th>\n",
              "      <th>collection_recovery_fee</th>\n",
              "      <th>last_pymnt_d</th>\n",
              "      <th>last_pymnt_amnt</th>\n",
              "      <th>last_credit_pull_d</th>\n",
              "      <th>last_fico_range_high</th>\n",
              "      <th>last_fico_range_low</th>\n",
              "      <th>collections_12_mths_ex_med</th>\n",
              "      <th>policy_code</th>\n",
              "      <th>application_type</th>\n",
              "      <th>acc_now_delinq</th>\n",
              "      <th>chargeoff_within_12_mths</th>\n",
              "      <th>delinq_amnt</th>\n",
              "      <th>pub_rec_bankruptcies</th>\n",
              "      <th>tax_liens</th>\n",
              "    </tr>\n",
              "  </thead>\n",
              "  <tbody>\n",
              "    <tr>\n",
              "      <th>0</th>\n",
              "      <td>1077501</td>\n",
              "      <td>1296599.0</td>\n",
              "      <td>5000.0</td>\n",
              "      <td>5000.0</td>\n",
              "      <td>4975.0</td>\n",
              "      <td>36 months</td>\n",
              "      <td>10.65%</td>\n",
              "      <td>162.87</td>\n",
              "      <td>B</td>\n",
              "      <td>B2</td>\n",
              "      <td>NaN</td>\n",
              "      <td>10+ years</td>\n",
              "      <td>RENT</td>\n",
              "      <td>24000.0</td>\n",
              "      <td>Verified</td>\n",
              "      <td>Dec-2011</td>\n",
              "      <td>Fully Paid</td>\n",
              "      <td>n</td>\n",
              "      <td>https://lendingclub.com/browse/loanDetail.acti...</td>\n",
              "      <td>credit_card</td>\n",
              "      <td>Computer</td>\n",
              "      <td>860xx</td>\n",
              "      <td>AZ</td>\n",
              "      <td>27.65</td>\n",
              "      <td>0.0</td>\n",
              "      <td>Jan-1985</td>\n",
              "      <td>735.0</td>\n",
              "      <td>739.0</td>\n",
              "      <td>1.0</td>\n",
              "      <td>3.0</td>\n",
              "      <td>0.0</td>\n",
              "      <td>13648.0</td>\n",
              "      <td>83.7%</td>\n",
              "      <td>9.0</td>\n",
              "      <td>f</td>\n",
              "      <td>0.00</td>\n",
              "      <td>0.00</td>\n",
              "      <td>5863.155187</td>\n",
              "      <td>5833.84</td>\n",
              "      <td>5000.00</td>\n",
              "      <td>863.16</td>\n",
              "      <td>0.00</td>\n",
              "      <td>0.00</td>\n",
              "      <td>0.00</td>\n",
              "      <td>Jan-2015</td>\n",
              "      <td>171.62</td>\n",
              "      <td>Sep-2016</td>\n",
              "      <td>744.0</td>\n",
              "      <td>740.0</td>\n",
              "      <td>0.0</td>\n",
              "      <td>1.0</td>\n",
              "      <td>INDIVIDUAL</td>\n",
              "      <td>0.0</td>\n",
              "      <td>0.0</td>\n",
              "      <td>0.0</td>\n",
              "      <td>0.0</td>\n",
              "      <td>0.0</td>\n",
              "    </tr>\n",
              "    <tr>\n",
              "      <th>1</th>\n",
              "      <td>1077430</td>\n",
              "      <td>1314167.0</td>\n",
              "      <td>2500.0</td>\n",
              "      <td>2500.0</td>\n",
              "      <td>2500.0</td>\n",
              "      <td>60 months</td>\n",
              "      <td>15.27%</td>\n",
              "      <td>59.83</td>\n",
              "      <td>C</td>\n",
              "      <td>C4</td>\n",
              "      <td>Ryder</td>\n",
              "      <td>&lt; 1 year</td>\n",
              "      <td>RENT</td>\n",
              "      <td>30000.0</td>\n",
              "      <td>Source Verified</td>\n",
              "      <td>Dec-2011</td>\n",
              "      <td>Charged Off</td>\n",
              "      <td>n</td>\n",
              "      <td>https://lendingclub.com/browse/loanDetail.acti...</td>\n",
              "      <td>car</td>\n",
              "      <td>bike</td>\n",
              "      <td>309xx</td>\n",
              "      <td>GA</td>\n",
              "      <td>1.00</td>\n",
              "      <td>0.0</td>\n",
              "      <td>Apr-1999</td>\n",
              "      <td>740.0</td>\n",
              "      <td>744.0</td>\n",
              "      <td>5.0</td>\n",
              "      <td>3.0</td>\n",
              "      <td>0.0</td>\n",
              "      <td>1687.0</td>\n",
              "      <td>9.4%</td>\n",
              "      <td>4.0</td>\n",
              "      <td>f</td>\n",
              "      <td>0.00</td>\n",
              "      <td>0.00</td>\n",
              "      <td>1008.710000</td>\n",
              "      <td>1008.71</td>\n",
              "      <td>456.46</td>\n",
              "      <td>435.17</td>\n",
              "      <td>0.00</td>\n",
              "      <td>117.08</td>\n",
              "      <td>1.11</td>\n",
              "      <td>Apr-2013</td>\n",
              "      <td>119.66</td>\n",
              "      <td>Sep-2016</td>\n",
              "      <td>499.0</td>\n",
              "      <td>0.0</td>\n",
              "      <td>0.0</td>\n",
              "      <td>1.0</td>\n",
              "      <td>INDIVIDUAL</td>\n",
              "      <td>0.0</td>\n",
              "      <td>0.0</td>\n",
              "      <td>0.0</td>\n",
              "      <td>0.0</td>\n",
              "      <td>0.0</td>\n",
              "    </tr>\n",
              "    <tr>\n",
              "      <th>2</th>\n",
              "      <td>1077175</td>\n",
              "      <td>1313524.0</td>\n",
              "      <td>2400.0</td>\n",
              "      <td>2400.0</td>\n",
              "      <td>2400.0</td>\n",
              "      <td>36 months</td>\n",
              "      <td>15.96%</td>\n",
              "      <td>84.33</td>\n",
              "      <td>C</td>\n",
              "      <td>C5</td>\n",
              "      <td>NaN</td>\n",
              "      <td>10+ years</td>\n",
              "      <td>RENT</td>\n",
              "      <td>12252.0</td>\n",
              "      <td>Not Verified</td>\n",
              "      <td>Dec-2011</td>\n",
              "      <td>Fully Paid</td>\n",
              "      <td>n</td>\n",
              "      <td>https://lendingclub.com/browse/loanDetail.acti...</td>\n",
              "      <td>small_business</td>\n",
              "      <td>real estate business</td>\n",
              "      <td>606xx</td>\n",
              "      <td>IL</td>\n",
              "      <td>8.72</td>\n",
              "      <td>0.0</td>\n",
              "      <td>Nov-2001</td>\n",
              "      <td>735.0</td>\n",
              "      <td>739.0</td>\n",
              "      <td>2.0</td>\n",
              "      <td>2.0</td>\n",
              "      <td>0.0</td>\n",
              "      <td>2956.0</td>\n",
              "      <td>98.5%</td>\n",
              "      <td>10.0</td>\n",
              "      <td>f</td>\n",
              "      <td>0.00</td>\n",
              "      <td>0.00</td>\n",
              "      <td>3005.666844</td>\n",
              "      <td>3005.67</td>\n",
              "      <td>2400.00</td>\n",
              "      <td>605.67</td>\n",
              "      <td>0.00</td>\n",
              "      <td>0.00</td>\n",
              "      <td>0.00</td>\n",
              "      <td>Jun-2014</td>\n",
              "      <td>649.91</td>\n",
              "      <td>Sep-2016</td>\n",
              "      <td>719.0</td>\n",
              "      <td>715.0</td>\n",
              "      <td>0.0</td>\n",
              "      <td>1.0</td>\n",
              "      <td>INDIVIDUAL</td>\n",
              "      <td>0.0</td>\n",
              "      <td>0.0</td>\n",
              "      <td>0.0</td>\n",
              "      <td>0.0</td>\n",
              "      <td>0.0</td>\n",
              "    </tr>\n",
              "    <tr>\n",
              "      <th>3</th>\n",
              "      <td>1076863</td>\n",
              "      <td>1277178.0</td>\n",
              "      <td>10000.0</td>\n",
              "      <td>10000.0</td>\n",
              "      <td>10000.0</td>\n",
              "      <td>36 months</td>\n",
              "      <td>13.49%</td>\n",
              "      <td>339.31</td>\n",
              "      <td>C</td>\n",
              "      <td>C1</td>\n",
              "      <td>AIR RESOURCES BOARD</td>\n",
              "      <td>10+ years</td>\n",
              "      <td>RENT</td>\n",
              "      <td>49200.0</td>\n",
              "      <td>Source Verified</td>\n",
              "      <td>Dec-2011</td>\n",
              "      <td>Fully Paid</td>\n",
              "      <td>n</td>\n",
              "      <td>https://lendingclub.com/browse/loanDetail.acti...</td>\n",
              "      <td>other</td>\n",
              "      <td>personel</td>\n",
              "      <td>917xx</td>\n",
              "      <td>CA</td>\n",
              "      <td>20.00</td>\n",
              "      <td>0.0</td>\n",
              "      <td>Feb-1996</td>\n",
              "      <td>690.0</td>\n",
              "      <td>694.0</td>\n",
              "      <td>1.0</td>\n",
              "      <td>10.0</td>\n",
              "      <td>0.0</td>\n",
              "      <td>5598.0</td>\n",
              "      <td>21%</td>\n",
              "      <td>37.0</td>\n",
              "      <td>f</td>\n",
              "      <td>0.00</td>\n",
              "      <td>0.00</td>\n",
              "      <td>12231.890000</td>\n",
              "      <td>12231.89</td>\n",
              "      <td>10000.00</td>\n",
              "      <td>2214.92</td>\n",
              "      <td>16.97</td>\n",
              "      <td>0.00</td>\n",
              "      <td>0.00</td>\n",
              "      <td>Jan-2015</td>\n",
              "      <td>357.48</td>\n",
              "      <td>Apr-2016</td>\n",
              "      <td>604.0</td>\n",
              "      <td>600.0</td>\n",
              "      <td>0.0</td>\n",
              "      <td>1.0</td>\n",
              "      <td>INDIVIDUAL</td>\n",
              "      <td>0.0</td>\n",
              "      <td>0.0</td>\n",
              "      <td>0.0</td>\n",
              "      <td>0.0</td>\n",
              "      <td>0.0</td>\n",
              "    </tr>\n",
              "    <tr>\n",
              "      <th>4</th>\n",
              "      <td>1075358</td>\n",
              "      <td>1311748.0</td>\n",
              "      <td>3000.0</td>\n",
              "      <td>3000.0</td>\n",
              "      <td>3000.0</td>\n",
              "      <td>60 months</td>\n",
              "      <td>12.69%</td>\n",
              "      <td>67.79</td>\n",
              "      <td>B</td>\n",
              "      <td>B5</td>\n",
              "      <td>University Medical Group</td>\n",
              "      <td>1 year</td>\n",
              "      <td>RENT</td>\n",
              "      <td>80000.0</td>\n",
              "      <td>Source Verified</td>\n",
              "      <td>Dec-2011</td>\n",
              "      <td>Current</td>\n",
              "      <td>n</td>\n",
              "      <td>https://lendingclub.com/browse/loanDetail.acti...</td>\n",
              "      <td>other</td>\n",
              "      <td>Personal</td>\n",
              "      <td>972xx</td>\n",
              "      <td>OR</td>\n",
              "      <td>17.94</td>\n",
              "      <td>0.0</td>\n",
              "      <td>Jan-1996</td>\n",
              "      <td>695.0</td>\n",
              "      <td>699.0</td>\n",
              "      <td>0.0</td>\n",
              "      <td>15.0</td>\n",
              "      <td>0.0</td>\n",
              "      <td>27783.0</td>\n",
              "      <td>53.9%</td>\n",
              "      <td>38.0</td>\n",
              "      <td>f</td>\n",
              "      <td>270.78</td>\n",
              "      <td>270.78</td>\n",
              "      <td>3784.490000</td>\n",
              "      <td>3784.49</td>\n",
              "      <td>2729.22</td>\n",
              "      <td>1055.27</td>\n",
              "      <td>0.00</td>\n",
              "      <td>0.00</td>\n",
              "      <td>0.00</td>\n",
              "      <td>Sep-2016</td>\n",
              "      <td>67.79</td>\n",
              "      <td>Sep-2016</td>\n",
              "      <td>694.0</td>\n",
              "      <td>690.0</td>\n",
              "      <td>0.0</td>\n",
              "      <td>1.0</td>\n",
              "      <td>INDIVIDUAL</td>\n",
              "      <td>0.0</td>\n",
              "      <td>0.0</td>\n",
              "      <td>0.0</td>\n",
              "      <td>0.0</td>\n",
              "      <td>0.0</td>\n",
              "    </tr>\n",
              "  </tbody>\n",
              "</table>\n",
              "</div>"
            ],
            "text/plain": [
              "        id  member_id  loan_amnt  ...  delinq_amnt  pub_rec_bankruptcies tax_liens\n",
              "0  1077501  1296599.0     5000.0  ...          0.0                   0.0       0.0\n",
              "1  1077430  1314167.0     2500.0  ...          0.0                   0.0       0.0\n",
              "2  1077175  1313524.0     2400.0  ...          0.0                   0.0       0.0\n",
              "3  1076863  1277178.0    10000.0  ...          0.0                   0.0       0.0\n",
              "4  1075358  1311748.0     3000.0  ...          0.0                   0.0       0.0\n",
              "\n",
              "[5 rows x 57 columns]"
            ]
          },
          "metadata": {
            "tags": []
          },
          "execution_count": 5
        }
      ]
    },
    {
      "cell_type": "code",
      "metadata": {
        "id": "I5olbcL1MStc"
      },
      "source": [
        "ongo_columns=['funded_amnt','funded_amnt_inv','issue_d','pymnt_plan','out_prncp','out_prncp_inv','total_pymnt','total_pymnt_inv','total_rec_prncp','policy_code','total_rec_int',\n",
        "             'total_rec_late_fee','recoveries','collection_recovery_fee','last_pymnt_d','last_pymnt_amnt','last_credit_pull_d']"
      ],
      "execution_count": null,
      "outputs": []
    },
    {
      "cell_type": "code",
      "metadata": {
        "colab": {
          "base_uri": "https://localhost:8080/"
        },
        "id": "q4N700W5MStd",
        "outputId": "de3d95eb-6eb7-4f2e-c2ed-3048420b9b4b"
      },
      "source": [
        "data=data.drop(labels=ongo_columns,axis=1)\n",
        "data.info(verbose=False)"
      ],
      "execution_count": null,
      "outputs": [
        {
          "output_type": "stream",
          "text": [
            "<class 'pandas.core.frame.DataFrame'>\n",
            "RangeIndex: 42542 entries, 0 to 42541\n",
            "Columns: 40 entries, id to tax_liens\n",
            "dtypes: float64(21), object(19)\n",
            "memory usage: 13.0+ MB\n"
          ],
          "name": "stdout"
        }
      ]
    },
    {
      "cell_type": "code",
      "metadata": {
        "colab": {
          "base_uri": "https://localhost:8080/"
        },
        "id": "mbefYh_YMStd",
        "outputId": "9036d6e6-0856-4096-8973-4adb52708c6f"
      },
      "source": [
        "data['loan_status'].value_counts()"
      ],
      "execution_count": null,
      "outputs": [
        {
          "output_type": "execute_result",
          "data": {
            "text/plain": [
              "Fully Paid                                             33586\n",
              "Charged Off                                             5653\n",
              "Does not meet the credit policy. Status:Fully Paid      1988\n",
              "Does not meet the credit policy. Status:Charged Off      761\n",
              "Current                                                  513\n",
              "In Grace Period                                           16\n",
              "Late (31-120 days)                                        12\n",
              "Late (16-30 days)                                          5\n",
              "Default                                                    1\n",
              "Name: loan_status, dtype: int64"
            ]
          },
          "metadata": {
            "tags": []
          },
          "execution_count": 8
        }
      ]
    },
    {
      "cell_type": "code",
      "metadata": {
        "colab": {
          "base_uri": "https://localhost:8080/"
        },
        "id": "6tfGHUrjMStd",
        "outputId": "61abd4e2-e095-4a91-bab1-7ba96024d703"
      },
      "source": [
        "data.shape"
      ],
      "execution_count": null,
      "outputs": [
        {
          "output_type": "execute_result",
          "data": {
            "text/plain": [
              "(42542, 40)"
            ]
          },
          "metadata": {
            "tags": []
          },
          "execution_count": 9
        }
      ]
    },
    {
      "cell_type": "code",
      "metadata": {
        "colab": {
          "base_uri": "https://localhost:8080/"
        },
        "id": "3oi3oeh5MSte",
        "outputId": "825b4c45-4e84-466d-ecd1-c1cc1097ffa4"
      },
      "source": [
        "data.columns"
      ],
      "execution_count": null,
      "outputs": [
        {
          "output_type": "execute_result",
          "data": {
            "text/plain": [
              "Index(['id', 'member_id', 'loan_amnt', 'term', 'int_rate', 'installment',\n",
              "       'grade', 'sub_grade', 'emp_title', 'emp_length', 'home_ownership',\n",
              "       'annual_inc', 'verification_status', 'loan_status', 'url', 'purpose',\n",
              "       'title', 'zip_code', 'addr_state', 'dti', 'delinq_2yrs',\n",
              "       'earliest_cr_line', 'fico_range_low', 'fico_range_high',\n",
              "       'inq_last_6mths', 'open_acc', 'pub_rec', 'revol_bal', 'revol_util',\n",
              "       'total_acc', 'initial_list_status', 'last_fico_range_high',\n",
              "       'last_fico_range_low', 'collections_12_mths_ex_med', 'application_type',\n",
              "       'acc_now_delinq', 'chargeoff_within_12_mths', 'delinq_amnt',\n",
              "       'pub_rec_bankruptcies', 'tax_liens'],\n",
              "      dtype='object')"
            ]
          },
          "metadata": {
            "tags": []
          },
          "execution_count": 10
        }
      ]
    },
    {
      "cell_type": "code",
      "metadata": {
        "id": "v-1hkw2RMSte"
      },
      "source": [
        "target=data['loan_status']\n",
        "from sklearn.model_selection import train_test_split\n",
        "xtrain,xtest,ytrain,ytest=train_test_split(data,target,test_size=0.3)"
      ],
      "execution_count": null,
      "outputs": []
    },
    {
      "cell_type": "code",
      "metadata": {
        "colab": {
          "base_uri": "https://localhost:8080/"
        },
        "id": "NFKQ5s9TMSte",
        "outputId": "0cd33e67-44d2-4532-e529-254ef2efa264"
      },
      "source": [
        "feature='home_ownership'\n",
        "xtrain[feature].value_counts()\n",
        "xtrain[feature]=xtrain[feature].fillna(value=\"OTHER\")\n",
        "xtrain[feature].value_counts()"
      ],
      "execution_count": null,
      "outputs": [
        {
          "output_type": "execute_result",
          "data": {
            "text/plain": [
              "RENT        14172\n",
              "MORTGAGE    13262\n",
              "OWN          2241\n",
              "OTHER          98\n",
              "NONE            6\n",
              "Name: home_ownership, dtype: int64"
            ]
          },
          "metadata": {
            "tags": []
          },
          "execution_count": 12
        }
      ]
    },
    {
      "cell_type": "code",
      "metadata": {
        "colab": {
          "base_uri": "https://localhost:8080/",
          "height": 282
        },
        "id": "54oCiwruMStf",
        "outputId": "cfa5acdd-4d27-4a44-f1cd-4cf344c4ea93"
      },
      "source": [
        "x=['rent','mortgage','own','other']\n",
        "y=[141471,13204,2291,136]\n",
        "plt.bar(x,y)"
      ],
      "execution_count": null,
      "outputs": [
        {
          "output_type": "execute_result",
          "data": {
            "text/plain": [
              "<BarContainer object of 4 artists>"
            ]
          },
          "metadata": {
            "tags": []
          },
          "execution_count": 13
        },
        {
          "output_type": "display_data",
          "data": {
            "image/png": "[encoded data removed]",
            "text/plain": [
              "<Figure size 432x288 with 1 Axes>"
            ]
          },
          "metadata": {
            "tags": [],
            "needs_background": "light"
          }
        }
      ]
    },
    {
      "cell_type": "code",
      "metadata": {
        "colab": {
          "base_uri": "https://localhost:8080/"
        },
        "id": "lgSpYpFXMStf",
        "outputId": "dabe88de-6e83-4f3a-f300-81a3488cbae4"
      },
      "source": [
        "print(xtrain['int_rate'].values[:3])"
      ],
      "execution_count": null,
      "outputs": [
        {
          "output_type": "stream",
          "text": [
            "['5.79%' '9.88%' '10.74%']\n"
          ],
          "name": "stdout"
        }
      ]
    },
    {
      "cell_type": "code",
      "metadata": {
        "id": "IULhdv5pMStf"
      },
      "source": [
        "def str_parser(x):\n",
        "    if '%' in str(x):\n",
        "        return(float(str(x).replace('%','')))\n",
        "    return x"
      ],
      "execution_count": null,
      "outputs": []
    },
    {
      "cell_type": "code",
      "metadata": {
        "id": "fz5wqqJlMStg"
      },
      "source": [
        "xtrain['int_rate']=xtrain['int_rate'].apply(str_parser)\n",
        "xtrain['revol_util']=xtrain['revol_util'].apply(str_parser)\n",
        "xtest['int_rate']=xtest['int_rate'].apply(str_parser)\n",
        "xtest['revol_util']=xtest['revol_util'].apply(str_parser)"
      ],
      "execution_count": null,
      "outputs": []
    },
    {
      "cell_type": "code",
      "metadata": {
        "id": "FEDDSjKpMStg"
      },
      "source": [
        "xtrain=xtrain.drop(labels='emp_title',axis=1)\n",
        "xtest=xtest.drop(labels='emp_title',axis=1)"
      ],
      "execution_count": null,
      "outputs": []
    },
    {
      "cell_type": "markdown",
      "metadata": {
        "id": "GfMn5_3hMVbd"
      },
      "source": [
        ""
      ]
    },
    {
      "cell_type": "code",
      "metadata": {
        "id": "Qaj9Ry5hMStg"
      },
      "source": [
        "emp_length_mode=xtrain['emp_length'].mode()[0]\n",
        "xtrain['emp_length']=xtrain['emp_length'].fillna(value=emp_length_mode)\n",
        "xtest['emp_length']=xtest['emp_length'].fillna(value=emp_length_mode)"
      ],
      "execution_count": null,
      "outputs": []
    },
    {
      "cell_type": "code",
      "metadata": {
        "id": "j3XqH_UTMStg"
      },
      "source": [
        "xtest['title']=xtest['title'].fillna(value=\"missing\")\n",
        "xtrain['title']=xtrain['title'].fillna(value=\"missing\")"
      ],
      "execution_count": null,
      "outputs": []
    },
    {
      "cell_type": "code",
      "metadata": {
        "colab": {
          "base_uri": "https://localhost:8080/"
        },
        "id": "U9W67Kk-MSth",
        "outputId": "33149d48-36f0-4f87-94ae-9fdb5211427a"
      },
      "source": [
        "from sklearn import preprocessing\n",
        "grade_encoder=preprocessing.LabelEncoder()\n",
        "data['grade']=xtrain['grade'].fillna('G')\n",
        "data['grade'].value_counts()\n",
        "xtrain['grade']=xtrain['grade'].replace(['A','B','C','D','E','F','G'],[0,1,2,3,4,5,6])\n",
        "xtest['grade']=xtest['grade'].replace(['A','B','C','D','E','F','G'],[0,1,2,3,4,5,6])\n",
        "xtrain['grade'].head()"
      ],
      "execution_count": null,
      "outputs": [
        {
          "output_type": "execute_result",
          "data": {
            "text/plain": [
              "19924    0.0\n",
              "29619    1.0\n",
              "17354    1.0\n",
              "13441    0.0\n",
              "30877    0.0\n",
              "Name: grade, dtype: float64"
            ]
          },
          "metadata": {
            "tags": []
          },
          "execution_count": 20
        }
      ]
    },
    {
      "cell_type": "code",
      "metadata": {
        "id": "sIdR-IV8MSth"
      },
      "source": [
        "xtrain['emp_length'].value_counts()\n",
        "data['emp_length'].value_counts()\n",
        "g={'< 1 year':0,'1 year':1,'2 years':2,'3 years':3,'4 years':4,'5 years':5,'6 years':6,'7 years':7,'8 years':8,'9 years':9,'10+ years':10}"
      ],
      "execution_count": null,
      "outputs": []
    },
    {
      "cell_type": "code",
      "metadata": {
        "id": "nz7TF2AmMSth"
      },
      "source": [
        "xtrain['emp_length']=xtrain['emp_length'].apply(lambda x:g[x])"
      ],
      "execution_count": null,
      "outputs": []
    },
    {
      "cell_type": "code",
      "metadata": {
        "id": "_cWz9IfpMSti"
      },
      "source": [
        "xtest['emp_length']=xtest['emp_length'].apply(lambda x:g[x])"
      ],
      "execution_count": null,
      "outputs": []
    },
    {
      "cell_type": "code",
      "metadata": {
        "colab": {
          "base_uri": "https://localhost:8080/"
        },
        "id": "f-0W-56aMSti",
        "outputId": "76d108e8-0d8e-4aea-d889-55a5422e4995"
      },
      "source": [
        "xtrain['title'].unique()"
      ],
      "execution_count": null,
      "outputs": [
        {
          "output_type": "execute_result",
          "data": {
            "text/plain": [
              "array(['Grandview', 'Physical Therapy Loan', 'Pool Loan', ...,\n",
              "       'Lanaii Hawaii Dream Vacation For 4',\n",
              "       'Home Improvement/moving $$$ to accept a better job offer!',\n",
              "       'home settlement'], dtype=object)"
            ]
          },
          "metadata": {
            "tags": []
          },
          "execution_count": 24
        }
      ]
    },
    {
      "cell_type": "code",
      "metadata": {
        "id": "5OKDGePmMSti"
      },
      "source": [
        "xtrain['title']=xtrain['title'].apply(str.lower)\n",
        "xtest['title']=xtest['title'].apply(str.lower)"
      ],
      "execution_count": null,
      "outputs": []
    },
    {
      "cell_type": "code",
      "metadata": {
        "id": "fUCvp5abMSti"
      },
      "source": [
        "lists=['debt consolidation','credit card refinancing','business','vacation','home improvement','majar purchase','medical expense','car financing','moving and relocation','home buying','green loan','consolidation']"
      ],
      "execution_count": null,
      "outputs": []
    },
    {
      "cell_type": "code",
      "metadata": {
        "colab": {
          "base_uri": "https://localhost:8080/"
        },
        "id": "U1PTMnniMStj",
        "outputId": "412a4cb1-e234-4348-d307-26793bc68a52"
      },
      "source": [
        "xtrain['term'].value_counts()\n",
        "xtrain['term'].replace([\"36 months\",\"64 months\"],[36,64],inplace=True)\n",
        "xtrain['term'].value_counts()"
      ],
      "execution_count": null,
      "outputs": [
        {
          "output_type": "execute_result",
          "data": {
            "text/plain": [
              "36           22161\n",
              "60 months     7615\n",
              "Name: term, dtype: int64"
            ]
          },
          "metadata": {
            "tags": []
          },
          "execution_count": 27
        }
      ]
    },
    {
      "cell_type": "code",
      "metadata": {
        "colab": {
          "base_uri": "https://localhost:8080/"
        },
        "id": "5CkkclKRMStj",
        "outputId": "7093e24b-953e-46a9-8e7f-e65c96c42500"
      },
      "source": [
        "data['loan_status'].value_counts()"
      ],
      "execution_count": null,
      "outputs": [
        {
          "output_type": "execute_result",
          "data": {
            "text/plain": [
              "Fully Paid                                             33586\n",
              "Charged Off                                             5653\n",
              "Does not meet the credit policy. Status:Fully Paid      1988\n",
              "Does not meet the credit policy. Status:Charged Off      761\n",
              "Current                                                  513\n",
              "In Grace Period                                           16\n",
              "Late (31-120 days)                                        12\n",
              "Late (16-30 days)                                          5\n",
              "Default                                                    1\n",
              "Name: loan_status, dtype: int64"
            ]
          },
          "metadata": {
            "tags": []
          },
          "execution_count": 28
        }
      ]
    },
    {
      "cell_type": "code",
      "metadata": {
        "colab": {
          "base_uri": "https://localhost:8080/"
        },
        "id": "uXea3jscMStj",
        "outputId": "4ded1025-653e-4903-eb48-e60eb6408e81"
      },
      "source": [
        "data['term'].value_counts()"
      ],
      "execution_count": null,
      "outputs": [
        {
          "output_type": "execute_result",
          "data": {
            "text/plain": [
              "36 months    31534\n",
              "60 months    11001\n",
              "Name: term, dtype: int64"
            ]
          },
          "metadata": {
            "tags": []
          },
          "execution_count": 29
        }
      ]
    },
    {
      "cell_type": "code",
      "metadata": {
        "colab": {
          "base_uri": "https://localhost:8080/",
          "height": 282
        },
        "id": "ZUNBdEsAMStj",
        "outputId": "0789821a-edc1-4028-84b3-c795c1cdddb9"
      },
      "source": [
        "x=['36','60']\n",
        "y=[31534,11001]\n",
        "plt.bar(x,y)"
      ],
      "execution_count": null,
      "outputs": [
        {
          "output_type": "execute_result",
          "data": {
            "text/plain": [
              "<BarContainer object of 2 artists>"
            ]
          },
          "metadata": {
            "tags": []
          },
          "execution_count": 30
        },
        {
          "output_type": "display_data",
          "data": {
            "image/png": "[encoded data removed]",
            "text/plain": [
              "<Figure size 432x288 with 1 Axes>"
            ]
          },
          "metadata": {
            "tags": [],
            "needs_background": "light"
          }
        }
      ]
    },
    {
      "cell_type": "code",
      "metadata": {
        "colab": {
          "base_uri": "https://localhost:8080/",
          "height": 203
        },
        "id": "GGMbyq8VMStk",
        "outputId": "7b7ccee8-fbcc-4d6c-fadf-1663e75a07d6"
      },
      "source": [
        "df=pd.DataFrame(data,columns=[\"loan_status\",\"term\"])\n",
        "df.head()"
      ],
      "execution_count": null,
      "outputs": [
        {
          "output_type": "execute_result",
          "data": {
            "text/html": [
              "<div>\n",
              "<style scoped>\n",
              "    .dataframe tbody tr th:only-of-type {\n",
              "        vertical-align: middle;\n",
              "    }\n",
              "\n",
              "    .dataframe tbody tr th {\n",
              "        vertical-align: top;\n",
              "    }\n",
              "\n",
              "    .dataframe thead th {\n",
              "        text-align: right;\n",
              "    }\n",
              "</style>\n",
              "<table border=\"1\" class=\"dataframe\">\n",
              "  <thead>\n",
              "    <tr style=\"text-align: right;\">\n",
              "      <th></th>\n",
              "      <th>loan_status</th>\n",
              "      <th>term</th>\n",
              "    </tr>\n",
              "  </thead>\n",
              "  <tbody>\n",
              "    <tr>\n",
              "      <th>0</th>\n",
              "      <td>Fully Paid</td>\n",
              "      <td>36 months</td>\n",
              "    </tr>\n",
              "    <tr>\n",
              "      <th>1</th>\n",
              "      <td>Charged Off</td>\n",
              "      <td>60 months</td>\n",
              "    </tr>\n",
              "    <tr>\n",
              "      <th>2</th>\n",
              "      <td>Fully Paid</td>\n",
              "      <td>36 months</td>\n",
              "    </tr>\n",
              "    <tr>\n",
              "      <th>3</th>\n",
              "      <td>Fully Paid</td>\n",
              "      <td>36 months</td>\n",
              "    </tr>\n",
              "    <tr>\n",
              "      <th>4</th>\n",
              "      <td>Current</td>\n",
              "      <td>60 months</td>\n",
              "    </tr>\n",
              "  </tbody>\n",
              "</table>\n",
              "</div>"
            ],
            "text/plain": [
              "   loan_status       term\n",
              "0   Fully Paid  36 months\n",
              "1  Charged Off  60 months\n",
              "2   Fully Paid  36 months\n",
              "3   Fully Paid  36 months\n",
              "4      Current  60 months"
            ]
          },
          "metadata": {
            "tags": []
          },
          "execution_count": 31
        }
      ]
    },
    {
      "cell_type": "code",
      "metadata": {
        "colab": {
          "base_uri": "https://localhost:8080/"
        },
        "id": "9enzBqPNMStk",
        "outputId": "565b9dff-e460-4947-b1d5-f40756f18882"
      },
      "source": [
        "group=df[\"loan_status\"].groupby(df[\"term\"])\n",
        "group"
      ],
      "execution_count": null,
      "outputs": [
        {
          "output_type": "execute_result",
          "data": {
            "text/plain": [
              "<pandas.core.groupby.generic.SeriesGroupBy object at 0x7fa922b26090>"
            ]
          },
          "metadata": {
            "tags": []
          },
          "execution_count": 32
        }
      ]
    },
    {
      "cell_type": "code",
      "metadata": {
        "colab": {
          "base_uri": "https://localhost:8080/"
        },
        "id": "7FQpyHVxMStk",
        "outputId": "523eaa29-486f-4498-d630-48754afd83f8"
      },
      "source": [
        "counts=xtrain.groupby([\"loan_status\",\"term\"])\n",
        "a=len(list(counts)[0][1]) #charged off 36 month\n",
        "a"
      ],
      "execution_count": null,
      "outputs": [
        {
          "output_type": "execute_result",
          "data": {
            "text/plain": [
              "2294"
            ]
          },
          "metadata": {
            "tags": []
          },
          "execution_count": 33
        }
      ]
    },
    {
      "cell_type": "code",
      "metadata": {
        "colab": {
          "base_uri": "https://localhost:8080/"
        },
        "id": "vWHiaPN8MStk",
        "outputId": "cbda7fee-46fa-402c-982b-e262e581fb05"
      },
      "source": [
        "b=len(list(counts)[1][1])#charged off 60 month\n",
        "b"
      ],
      "execution_count": null,
      "outputs": [
        {
          "output_type": "execute_result",
          "data": {
            "text/plain": [
              "1684"
            ]
          },
          "metadata": {
            "tags": []
          },
          "execution_count": 34
        }
      ]
    },
    {
      "cell_type": "code",
      "metadata": {
        "colab": {
          "base_uri": "https://localhost:8080/"
        },
        "id": "C4v9G0t0MStl",
        "outputId": "5269af2f-d0d9-40cf-8271-e204d6159581"
      },
      "source": [
        "xtrain[\"term\"].value_counts()\n",
        "xtrain[\"term\"].head()"
      ],
      "execution_count": null,
      "outputs": [
        {
          "output_type": "execute_result",
          "data": {
            "text/plain": [
              "19924           36\n",
              "29619           36\n",
              "17354    60 months\n",
              "13441           36\n",
              "30877           36\n",
              "Name: term, dtype: object"
            ]
          },
          "metadata": {
            "tags": []
          },
          "execution_count": 35
        }
      ]
    },
    {
      "cell_type": "code",
      "metadata": {
        "colab": {
          "base_uri": "https://localhost:8080/",
          "height": 298
        },
        "id": "cHz0YAlsMStl",
        "outputId": "419d7f4a-83c2-4b21-ff32-efb128524185"
      },
      "source": [
        "c=22067-2257\n",
        "d=7707-1698\n",
        "z=[\"charged off\",\"remaining\"]\n",
        "x=[a,c]\n",
        "y=[b,d]\n",
        "plt.title(\"loan status of 36 months term\")\n",
        "plt.bar(z,x,color=[\"red\",\"green\"])"
      ],
      "execution_count": null,
      "outputs": [
        {
          "output_type": "execute_result",
          "data": {
            "text/plain": [
              "<BarContainer object of 2 artists>"
            ]
          },
          "metadata": {
            "tags": []
          },
          "execution_count": 36
        },
        {
          "output_type": "display_data",
          "data": {
            "image/png": "[encoded data removed]",
            "text/plain": [
              "<Figure size 432x288 with 1 Axes>"
            ]
          },
          "metadata": {
            "tags": [],
            "needs_background": "light"
          }
        }
      ]
    },
    {
      "cell_type": "code",
      "metadata": {
        "colab": {
          "base_uri": "https://localhost:8080/",
          "height": 298
        },
        "id": "rpOJii05MStl",
        "outputId": "7182136c-02b8-4982-db2b-fac6444b205e"
      },
      "source": [
        "plt.title(\"loan status of 60 months term\")\n",
        "plt.bar(z,y,color=[\"red\",\"green\"])"
      ],
      "execution_count": null,
      "outputs": [
        {
          "output_type": "execute_result",
          "data": {
            "text/plain": [
              "<BarContainer object of 2 artists>"
            ]
          },
          "metadata": {
            "tags": []
          },
          "execution_count": 37
        },
        {
          "output_type": "display_data",
          "data": {
            "image/png": "[encoded data removed]",
            "text/plain": [
              "<Figure size 432x288 with 1 Axes>"
            ]
          },
          "metadata": {
            "tags": [],
            "needs_background": "light"
          }
        }
      ]
    },
    {
      "cell_type": "code",
      "metadata": {
        "colab": {
          "base_uri": "https://localhost:8080/",
          "height": 298
        },
        "id": "hLXwHCeZMStm",
        "outputId": "e67b7add-913b-4a64-f535-49eb3594efae"
      },
      "source": [
        "counts=xtrain.groupby([\"loan_status\",\"home_ownership\"])\n",
        "list(counts)\n",
        "#charged off according to home ownership\n",
        "x=[\"mortgage\",\"rent\",\"own\",\"other\"]\n",
        "y=[1624,2001,214,16]\n",
        "plt.title(\"charged off based on home ownership\")\n",
        "plt.bar(x,y,color=[\"yellow\",\"orange\",\"blue\",\"green\"])"
      ],
      "execution_count": null,
      "outputs": [
        {
          "output_type": "execute_result",
          "data": {
            "text/plain": [
              "<BarContainer object of 4 artists>"
            ]
          },
          "metadata": {
            "tags": []
          },
          "execution_count": 38
        },
        {
          "output_type": "display_data",
          "data": {
            "image/png": "[encoded data removed]",
            "text/plain": [
              "<Figure size 432x288 with 1 Axes>"
            ]
          },
          "metadata": {
            "tags": [],
            "needs_background": "light"
          }
        }
      ]
    },
    {
      "cell_type": "code",
      "metadata": {
        "colab": {
          "base_uri": "https://localhost:8080/",
          "height": 298
        },
        "id": "OuP6VlXtMStm",
        "outputId": "88cdcc61-f4e9-4246-8d66-5c440f87fe3b"
      },
      "source": [
        "counts=xtrain.groupby([\"loan_status\",\"verification_status\"])\n",
        "list(counts)\n",
        "x=[\"Not verified\",\"Source verified\",\"verified\"]\n",
        "y=[1519,1011,1425]\n",
        "plt.title(\"charged off based on verification status\")\n",
        "plt.bar(x,y,color=[\"green\",\"blue\",\"red\"])"
      ],
      "execution_count": null,
      "outputs": [
        {
          "output_type": "execute_result",
          "data": {
            "text/plain": [
              "<BarContainer object of 3 artists>"
            ]
          },
          "metadata": {
            "tags": []
          },
          "execution_count": 39
        },
        {
          "output_type": "display_data",
          "data": {
            "image/png": "[encoded data removed]",
            "text/plain": [
              "<Figure size 432x288 with 1 Axes>"
            ]
          },
          "metadata": {
            "tags": [],
            "needs_background": "light"
          }
        }
      ]
    },
    {
      "cell_type": "code",
      "metadata": {
        "colab": {
          "base_uri": "https://localhost:8080/",
          "height": 298
        },
        "id": "6Pfe5HzHMStm",
        "outputId": "ab405aa9-e036-49de-a062-59469523669f"
      },
      "source": [
        "counts=xtrain.groupby([\"loan_status\",\"emp_length\"])\n",
        "list(counts)\n",
        "x=[0,1,2,3,4,5,6,7,8,9]\n",
        "y=[450,303,391,392,326,320,235,188,151,106]\n",
        "plt.title(\"charged off based on employement length\")\n",
        "plt.bar(x,y)"
      ],
      "execution_count": null,
      "outputs": [
        {
          "output_type": "execute_result",
          "data": {
            "text/plain": [
              "<BarContainer object of 10 artists>"
            ]
          },
          "metadata": {
            "tags": []
          },
          "execution_count": 40
        },
        {
          "output_type": "display_data",
          "data": {
            "image/png": "[encoded data removed]",
            "text/plain": [
              "<Figure size 432x288 with 1 Axes>"
            ]
          },
          "metadata": {
            "tags": [],
            "needs_background": "light"
          }
        }
      ]
    },
    {
      "cell_type": "code",
      "metadata": {
        "colab": {
          "base_uri": "https://localhost:8080/",
          "height": 282
        },
        "id": "333EsjHvMStm",
        "outputId": "7284550a-df83-4842-a97f-475531e224e1"
      },
      "source": [
        "data['delinq_2yrs'].value_counts()\n",
        "xtrain['delinq_2yrs']=xtrain['delinq_2yrs'].fillna(0.0)\n",
        "xtrain['delinq_2yrs'].isnull().sum()\n",
        "counts=xtrain.groupby([\"loan_status\",\"delinq_2yrs\"])\n",
        "list(counts)\n",
        "x=[0.0,1.0,2.0,3.0,4.0,5.0,6.0,7.0,8.0]\n",
        "y=[3461,361,96,24,0,9,2,1,1]\n",
        "plt.bar(x,y)"
      ],
      "execution_count": null,
      "outputs": [
        {
          "output_type": "execute_result",
          "data": {
            "text/plain": [
              "<BarContainer object of 9 artists>"
            ]
          },
          "metadata": {
            "tags": []
          },
          "execution_count": 41
        },
        {
          "output_type": "display_data",
          "data": {
            "image/png": "[encoded data removed]",
            "text/plain": [
              "<Figure size 432x288 with 1 Axes>"
            ]
          },
          "metadata": {
            "tags": [],
            "needs_background": "light"
          }
        }
      ]
    },
    {
      "cell_type": "code",
      "metadata": {
        "colab": {
          "base_uri": "https://localhost:8080/",
          "height": 234
        },
        "id": "Z6yuY0yMMStn",
        "outputId": "cfa3e78d-b931-4bf1-c390-4a0fe7d9ed3c"
      },
      "source": [
        "df=pd.DataFrame(data=xtrain,columns=[\"loan_status\",\"loan_amnt\"])\n",
        "df_prices = df.groupby(\"loan_status\").agg([np.mean, np.std])\n",
        "prices=df_prices['loan_amnt']\n",
        "prices.head()"
      ],
      "execution_count": null,
      "outputs": [
        {
          "output_type": "execute_result",
          "data": {
            "text/html": [
              "<div>\n",
              "<style scoped>\n",
              "    .dataframe tbody tr th:only-of-type {\n",
              "        vertical-align: middle;\n",
              "    }\n",
              "\n",
              "    .dataframe tbody tr th {\n",
              "        vertical-align: top;\n",
              "    }\n",
              "\n",
              "    .dataframe thead th {\n",
              "        text-align: right;\n",
              "    }\n",
              "</style>\n",
              "<table border=\"1\" class=\"dataframe\">\n",
              "  <thead>\n",
              "    <tr style=\"text-align: right;\">\n",
              "      <th></th>\n",
              "      <th>mean</th>\n",
              "      <th>std</th>\n",
              "    </tr>\n",
              "    <tr>\n",
              "      <th>loan_status</th>\n",
              "      <th></th>\n",
              "      <th></th>\n",
              "    </tr>\n",
              "  </thead>\n",
              "  <tbody>\n",
              "    <tr>\n",
              "      <th>Charged Off</th>\n",
              "      <td>12176.263198</td>\n",
              "      <td>8157.446209</td>\n",
              "    </tr>\n",
              "    <tr>\n",
              "      <th>Current</th>\n",
              "      <td>17633.477011</td>\n",
              "      <td>8938.816204</td>\n",
              "    </tr>\n",
              "    <tr>\n",
              "      <th>Does not meet the credit policy. Status:Charged Off</th>\n",
              "      <td>9644.619048</td>\n",
              "      <td>6571.857530</td>\n",
              "    </tr>\n",
              "    <tr>\n",
              "      <th>Does not meet the credit policy. Status:Fully Paid</th>\n",
              "      <td>8902.277542</td>\n",
              "      <td>6143.911033</td>\n",
              "    </tr>\n",
              "    <tr>\n",
              "      <th>Fully Paid</th>\n",
              "      <td>10927.238377</td>\n",
              "      <td>7250.447153</td>\n",
              "    </tr>\n",
              "  </tbody>\n",
              "</table>\n",
              "</div>"
            ],
            "text/plain": [
              "                                                            mean          std\n",
              "loan_status                                                                  \n",
              "Charged Off                                         12176.263198  8157.446209\n",
              "Current                                             17633.477011  8938.816204\n",
              "Does not meet the credit policy. Status:Charged...   9644.619048  6571.857530\n",
              "Does not meet the credit policy. Status:Fully Paid   8902.277542  6143.911033\n",
              "Fully Paid                                          10927.238377  7250.447153"
            ]
          },
          "metadata": {
            "tags": []
          },
          "execution_count": 42
        }
      ]
    },
    {
      "cell_type": "code",
      "metadata": {
        "colab": {
          "base_uri": "https://localhost:8080/",
          "height": 298
        },
        "id": "iPZj34VOMStn",
        "outputId": "4c5b43fc-5baf-4c5e-b112-b1b048163d87"
      },
      "source": [
        "prices.plot(kind = \"barh\", y = \"mean\", legend = False, \n",
        "            title = \"loan amount\")"
      ],
      "execution_count": null,
      "outputs": [
        {
          "output_type": "execute_result",
          "data": {
            "text/plain": [
              "<matplotlib.axes._subplots.AxesSubplot at 0x7fa922b04950>"
            ]
          },
          "metadata": {
            "tags": []
          },
          "execution_count": 43
        },
        {
          "output_type": "display_data",
          "data": {
            "image/png": "[encoded data removed]",
            "text/plain": [
              "<Figure size 432x288 with 1 Axes>"
            ]
          },
          "metadata": {
            "tags": [],
            "needs_background": "light"
          }
        }
      ]
    },
    {
      "cell_type": "code",
      "metadata": {
        "colab": {
          "base_uri": "https://localhost:8080/",
          "height": 298
        },
        "id": "QgaqpfRVMSto",
        "outputId": "0b8a1cf6-55f3-424b-ffed-c05111b0ddf2"
      },
      "source": [
        "prices.plot(kind = \"barh\", y = \"mean\", legend = False, \n",
        "            title = \"Average Prices\", xerr = \"std\") "
      ],
      "execution_count": null,
      "outputs": [
        {
          "output_type": "execute_result",
          "data": {
            "text/plain": [
              "<matplotlib.axes._subplots.AxesSubplot at 0x7fa9227afa50>"
            ]
          },
          "metadata": {
            "tags": []
          },
          "execution_count": 44
        },
        {
          "output_type": "display_data",
          "data": {
            "image/png": "[encoded data removed]",
            "text/plain": [
              "<Figure size 432x288 with 1 Axes>"
            ]
          },
          "metadata": {
            "tags": [],
            "needs_background": "light"
          }
        }
      ]
    },
    {
      "cell_type": "code",
      "metadata": {
        "colab": {
          "base_uri": "https://localhost:8080/"
        },
        "id": "Lmkl4mazMSto",
        "outputId": "da7080eb-a93d-442a-a512-487d52819ac7"
      },
      "source": [
        "xtrain.columns\n",
        "#xtrain['earliest_cr_line'].head()"
      ],
      "execution_count": null,
      "outputs": [
        {
          "output_type": "execute_result",
          "data": {
            "text/plain": [
              "Index(['id', 'member_id', 'loan_amnt', 'term', 'int_rate', 'installment',\n",
              "       'grade', 'sub_grade', 'emp_length', 'home_ownership', 'annual_inc',\n",
              "       'verification_status', 'loan_status', 'url', 'purpose', 'title',\n",
              "       'zip_code', 'addr_state', 'dti', 'delinq_2yrs', 'earliest_cr_line',\n",
              "       'fico_range_low', 'fico_range_high', 'inq_last_6mths', 'open_acc',\n",
              "       'pub_rec', 'revol_bal', 'revol_util', 'total_acc',\n",
              "       'initial_list_status', 'last_fico_range_high', 'last_fico_range_low',\n",
              "       'collections_12_mths_ex_med', 'application_type', 'acc_now_delinq',\n",
              "       'chargeoff_within_12_mths', 'delinq_amnt', 'pub_rec_bankruptcies',\n",
              "       'tax_liens'],\n",
              "      dtype='object')"
            ]
          },
          "metadata": {
            "tags": []
          },
          "execution_count": 45
        }
      ]
    },
    {
      "cell_type": "code",
      "metadata": {
        "id": "Ae0ylIAwMSto"
      },
      "source": [
        "numerical=['last_fico_range_high', 'last_fico_range_low','fico_range_low', 'fico_range_high',\"loan_amnt\",\"int_rate\",\"installment\",\"emp_length\",\"annual_inc\",\"dti\",\"delinq_2yrs\",\"inq_last_6mths\",\"open_acc\",\"pub_rec\",'revol_bal', 'revol_util', 'total_acc','acc_now_delinq', 'delinq_amnt', 'pub_rec_bankruptcies',]"
      ],
      "execution_count": null,
      "outputs": []
    },
    {
      "cell_type": "code",
      "metadata": {
        "colab": {
          "base_uri": "https://localhost:8080/",
          "height": 1000
        },
        "id": "1KwJJe9DMSto",
        "outputId": "9f00bed6-b39b-4c14-e2d2-789757ccc377"
      },
      "source": [
        "import seaborn as sns\n",
        "numerical=numerical\n",
        "correlation=xtrain[numerical].corr()\n",
        "fig,ax=plt.subplots(figsize=(16,16))\n",
        "sns.heatmap(correlation,ax=ax)\n",
        "plt.show()"
      ],
      "execution_count": null,
      "outputs": [
        {
          "output_type": "display_data",
          "data": {
            "image/png": "[encoded data removed]",
            "text/plain": [
              "<Figure size 1152x1152 with 2 Axes>"
            ]
          },
          "metadata": {
            "tags": [],
            "needs_background": "light"
          }
        }
      ]
    },
    {
      "cell_type": "code",
      "metadata": {
        "id": "R8-y1oerMStp"
      },
      "source": [
        "column=[\"loan_status\"]\n",
        "xtrain=xtrain.drop(labels=column,axis=1)"
      ],
      "execution_count": null,
      "outputs": []
    },
    {
      "cell_type": "code",
      "metadata": {
        "colab": {
          "base_uri": "https://localhost:8080/"
        },
        "id": "ErinQWxjMStp",
        "outputId": "b65c62d6-4304-4206-805c-abe1d1b92b4b"
      },
      "source": [
        "b=[]\n",
        "for i in ytrain:\n",
        "    if(i==\"Charged Off\"):\n",
        "        b.append(1)\n",
        "    else:\n",
        "        b.append(0)\n",
        "xtrain.dtypes\n",
        "c=xtrain.columns\n",
        "c\n",
        "d=[\"id\",\"member_id\",\"term\",\"sub_grade\",\"verification_status\",\"url\",\"purpose\",\"title\"                          \n",
        ",\"zip_code\",                       \n",
        "\"addr_state\",\"earliest_cr_line\",\"initial_list_status\",\"application_type\"]\n",
        "\n",
        "xtrain=xtrain.drop(labels=d,axis=1)\n",
        "xtrain.dtypes"
      ],
      "execution_count": null,
      "outputs": [
        {
          "output_type": "execute_result",
          "data": {
            "text/plain": [
              "loan_amnt                     float64\n",
              "int_rate                      float64\n",
              "installment                   float64\n",
              "grade                         float64\n",
              "emp_length                      int64\n",
              "home_ownership                 object\n",
              "annual_inc                    float64\n",
              "dti                           float64\n",
              "delinq_2yrs                   float64\n",
              "fico_range_low                float64\n",
              "fico_range_high               float64\n",
              "inq_last_6mths                float64\n",
              "open_acc                      float64\n",
              "pub_rec                       float64\n",
              "revol_bal                     float64\n",
              "revol_util                    float64\n",
              "total_acc                     float64\n",
              "last_fico_range_high          float64\n",
              "last_fico_range_low           float64\n",
              "collections_12_mths_ex_med    float64\n",
              "acc_now_delinq                float64\n",
              "chargeoff_within_12_mths      float64\n",
              "delinq_amnt                   float64\n",
              "pub_rec_bankruptcies          float64\n",
              "tax_liens                     float64\n",
              "dtype: object"
            ]
          },
          "metadata": {
            "tags": []
          },
          "execution_count": 49
        }
      ]
    },
    {
      "cell_type": "code",
      "metadata": {
        "id": "RWwQoBDUMStp"
      },
      "source": [
        "xtrain=xtrain.drop(labels=\"home_ownership\",axis=1)"
      ],
      "execution_count": null,
      "outputs": []
    },
    {
      "cell_type": "code",
      "metadata": {
        "id": "JznvOESyMStp"
      },
      "source": [
        "from sklearn.impute   import SimpleImputer\n",
        "xtrain['row_missingness'] = xtrain.isnull().sum(axis=1)\n",
        "mean_impute  = SimpleImputer(strategy='mean')\n",
        "imputed_data = mean_impute.fit_transform(xtrain)\n",
        "imputed_data = pd.DataFrame(imputed_data, columns = xtrain.columns)"
      ],
      "execution_count": null,
      "outputs": []
    },
    {
      "cell_type": "code",
      "metadata": {
        "colab": {
          "base_uri": "https://localhost:8080/"
        },
        "id": "McM6VYa2MStp",
        "outputId": "fd598aa1-69b1-451e-cea9-18b4540daa71"
      },
      "source": [
        "column=[\"loan_status\"]\n",
        "xtest=xtest.drop(labels=column,axis=1)\n",
        "d=[\"id\",\"member_id\",\"term\",\"sub_grade\",\"verification_status\",\"url\",\"purpose\",\"title\"                          \n",
        ",\"zip_code\",                       \n",
        "\"addr_state\",\"earliest_cr_line\",\"initial_list_status\",\"application_type\",\"home_ownership\"]\n",
        "\n",
        "xtest=xtest.drop(labels=d,axis=1)\n",
        "xtrain.dtypes"
      ],
      "execution_count": null,
      "outputs": [
        {
          "output_type": "execute_result",
          "data": {
            "text/plain": [
              "loan_amnt                     float64\n",
              "int_rate                      float64\n",
              "installment                   float64\n",
              "grade                         float64\n",
              "emp_length                      int64\n",
              "annual_inc                    float64\n",
              "dti                           float64\n",
              "delinq_2yrs                   float64\n",
              "fico_range_low                float64\n",
              "fico_range_high               float64\n",
              "inq_last_6mths                float64\n",
              "open_acc                      float64\n",
              "pub_rec                       float64\n",
              "revol_bal                     float64\n",
              "revol_util                    float64\n",
              "total_acc                     float64\n",
              "last_fico_range_high          float64\n",
              "last_fico_range_low           float64\n",
              "collections_12_mths_ex_med    float64\n",
              "acc_now_delinq                float64\n",
              "chargeoff_within_12_mths      float64\n",
              "delinq_amnt                   float64\n",
              "pub_rec_bankruptcies          float64\n",
              "tax_liens                     float64\n",
              "row_missingness                 int64\n",
              "dtype: object"
            ]
          },
          "metadata": {
            "tags": []
          },
          "execution_count": 52
        }
      ]
    },
    {
      "cell_type": "code",
      "metadata": {
        "id": "lDDDuCqtMStq"
      },
      "source": [
        ""
      ],
      "execution_count": null,
      "outputs": []
    },
    {
      "cell_type": "code",
      "metadata": {
        "colab": {
          "base_uri": "https://localhost:8080/"
        },
        "id": "apELdhj4MStq",
        "outputId": "a63872fb-1091-4647-a489-5eb382173190"
      },
      "source": [
        "from sklearn.linear_model import LogisticRegression\n",
        "lr=LogisticRegression()\n",
        "lr.fit(imputed_data,b)"
      ],
      "execution_count": null,
      "outputs": [
        {
          "output_type": "execute_result",
          "data": {
            "text/plain": [
              "LogisticRegression(C=1.0, class_weight=None, dual=False, fit_intercept=True,\n",
              "                   intercept_scaling=1, l1_ratio=None, max_iter=100,\n",
              "                   multi_class='auto', n_jobs=None, penalty='l2',\n",
              "                   random_state=None, solver='lbfgs', tol=0.0001, verbose=0,\n",
              "                   warm_start=False)"
            ]
          },
          "metadata": {
            "tags": []
          },
          "execution_count": 53
        }
      ]
    },
    {
      "cell_type": "code",
      "metadata": {
        "id": "ZRk0rOY6MStq"
      },
      "source": [
        ""
      ],
      "execution_count": null,
      "outputs": []
    },
    {
      "cell_type": "code",
      "metadata": {
        "id": "kCP7f4hmMStq"
      },
      "source": [
        "from sklearn.impute   import SimpleImputer\n",
        "xtest['row_missingness'] = xtest.isnull().sum(axis=1)\n",
        "mean_impute  = SimpleImputer(strategy='mean')\n",
        "imputed_data2 = mean_impute.fit_transform(xtest)\n",
        "imputed_data2 = pd.DataFrame(imputed_data2, columns = xtest.columns)"
      ],
      "execution_count": null,
      "outputs": []
    },
    {
      "cell_type": "code",
      "metadata": {
        "colab": {
          "base_uri": "https://localhost:8080/"
        },
        "id": "wmdStelUMStq",
        "outputId": "3009ce84-dd59-4409-bdab-ed2addbc7b35"
      },
      "source": [
        "a=lr.predict(imputed_data2)\n",
        "one=0\n",
        "zer=0\n",
        "for i in a:\n",
        "    if i==1:\n",
        "        one+=1\n",
        "    else:\n",
        "        zer+=1\n",
        "print(one)\n",
        "print(zer)"
      ],
      "execution_count": null,
      "outputs": [
        {
          "output_type": "stream",
          "text": [
            "843\n",
            "11920\n"
          ],
          "name": "stdout"
        }
      ]
    },
    {
      "cell_type": "code",
      "metadata": {
        "colab": {
          "base_uri": "https://localhost:8080/"
        },
        "id": "RLXhNSWmMStr",
        "outputId": "5c09ecec-9bcc-46d9-bad8-10ecc83a638c"
      },
      "source": [
        "from sklearn.ensemble import RandomForestClassifier \n",
        "rf_model = RandomForestClassifier (n_estimators=100,bootstrap = True, max_features = 'sqrt')\n",
        "rf_model.fit(imputed_data,b)"
      ],
      "execution_count": null,
      "outputs": [
        {
          "output_type": "execute_result",
          "data": {
            "text/plain": [
              "RandomForestClassifier(bootstrap=True, ccp_alpha=0.0, class_weight=None,\n",
              "                       criterion='gini', max_depth=None, max_features='sqrt',\n",
              "                       max_leaf_nodes=None, max_samples=None,\n",
              "                       min_impurity_decrease=0.0, min_impurity_split=None,\n",
              "                       min_samples_leaf=1, min_samples_split=2,\n",
              "                       min_weight_fraction_leaf=0.0, n_estimators=100,\n",
              "                       n_jobs=None, oob_score=False, random_state=None,\n",
              "                       verbose=0, warm_start=False)"
            ]
          },
          "metadata": {
            "tags": []
          },
          "execution_count": 56
        }
      ]
    },
    {
      "cell_type": "code",
      "metadata": {
        "id": "HY3ULSJ6NH-D"
      },
      "source": [
        "rf_predictions = rf_model.predict(imputed_data2) \n",
        "rf_probs = rf_model.predict_proba(imputed_data2)[:,1]\n",
        "b1=[]\n",
        "for i in ytest:\n",
        "    if (i=='Charged off'):\n",
        "        b1.append(1)\n",
        "    else:\n",
        "        b1.append(0)\n"
      ],
      "execution_count": null,
      "outputs": []
    },
    {
      "cell_type": "code",
      "metadata": {
        "id": "SAVL5S_oNJh3"
      },
      "source": [
        "from sklearn.metrics import roc_auc_score\n",
        "#Calculate roc auc\n",
        "#roc_value = roc_auc_score(b1, rf_probs)\n",
        "try:\n",
        "     roc_auc_score(b1, rf_probs)\n",
        "except ValueError:\n",
        "    pass\n"
      ],
      "execution_count": null,
      "outputs": []
    },
    {
      "cell_type": "code",
      "metadata": {
        "id": "WUSWt-BrNK9k",
        "colab": {
          "base_uri": "https://localhost:8080/"
        },
        "outputId": "5b4f12ae-5246-406d-a594-3f0ded1b63fa"
      },
      "source": [
        "lrpredict=lr.predict(imputed_data2)\n",
        "from sklearn.metrics import classification_report \n",
        "# Accuracy Of Logistic regression\n",
        "print(classification_report(b1, lrpredict))"
      ],
      "execution_count": null,
      "outputs": [
        {
          "output_type": "stream",
          "text": [
            "              precision    recall  f1-score   support\n",
            "\n",
            "           0       1.00      0.93      0.97     12763\n",
            "           1       0.00      0.00      0.00         0\n",
            "\n",
            "    accuracy                           0.93     12763\n",
            "   macro avg       0.50      0.47      0.48     12763\n",
            "weighted avg       1.00      0.93      0.97     12763\n",
            "\n"
          ],
          "name": "stdout"
        }
      ]
    },
    {
      "cell_type": "code",
      "metadata": {
        "id": "yyUZhH7PNMiu"
      },
      "source": [
        "plt.plot(b1,lrpredict)"
      ],
      "execution_count": null,
      "outputs": []
    },
    {
      "cell_type": "code",
      "metadata": {
        "id": "6UkynrALNOSs"
      },
      "source": [
        "from sklearn.metrics import roc_curve \n",
        "lr_pred_prob=lr.predict_proba(imputed_data2)[:,1]\n",
        "fpr, tpr, Thresholds=roc_curve(b1, lr_pred_prob) \n",
        "plt.plot([0,1],[0,1],\"k--\")\n",
        "plt.plot(fpr, tpr, Label=\"Logistic Regression\")\n",
        "plt.xlabel(\"False positive rate\") \n",
        "plt.ylabel(\"True positive rate\")\n",
        "plt.title(\"Logistiv Regressive ROC curve\")"
      ],
      "execution_count": null,
      "outputs": []
    },
    {
      "cell_type": "code",
      "metadata": {
        "colab": {
          "base_uri": "https://localhost:8080/"
        },
        "id": "JK_dyqjfNP5X",
        "outputId": "7e036d2c-06e3-476c-b9f1-7c1e13742c65"
      },
      "source": [
        "# Accuracy Of Random Forest\n",
        "print(classification_report(b1,rf_predictions))"
      ],
      "execution_count": null,
      "outputs": [
        {
          "output_type": "stream",
          "text": [
            "              precision    recall  f1-score   support\n",
            "\n",
            "           0       1.00      0.92      0.96     12763\n",
            "           1       0.00      0.00      0.00         0\n",
            "\n",
            "    accuracy                           0.92     12763\n",
            "   macro avg       0.50      0.46      0.48     12763\n",
            "weighted avg       1.00      0.92      0.96     12763\n",
            "\n"
          ],
          "name": "stdout"
        }
      ]
    },
    {
      "cell_type": "code",
      "metadata": {
        "id": "ysaU1ueXNRR_"
      },
      "source": [
        "fpr1, tpr1,Thresholds =roc_curve(b1,rf_probs)\n",
        "plt.plot([0,1],[0,1],\"k--\")\n",
        "plt.plot(fpr1, tpr1,Label=\"RandomForest\")\n",
        "plt.xlabel(\"False positive rate\")\n",
        "plt.ylabel(\"True positive mate\")\n",
        "plt.title(\"RandomForest ROC curve\")"
      ],
      "execution_count": null,
      "outputs": []
    },
    {
      "cell_type": "code",
      "metadata": {
        "id": "l57KINQoNSr5"
      },
      "source": [
        "print(rf_predictions,b1)"
      ],
      "execution_count": null,
      "outputs": []
    },
    {
      "cell_type": "code",
      "metadata": {
        "id": "cn-urDxVOY-F"
      },
      "source": [
        "plt.plot(rf_predictions,b1)"
      ],
      "execution_count": null,
      "outputs": []
    }
  ]
}